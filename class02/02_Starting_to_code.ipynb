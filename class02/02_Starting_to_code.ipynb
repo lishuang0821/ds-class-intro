{
 "cells": [
  {
   "cell_type": "markdown",
   "metadata": {},
   "source": [
    "# Intro to Python3 - Class02\n",
    "\n",
    "### Class agenda:\n",
    "##### 4. Collections: `list`, `tuple`, `set`, and `dictionary`\n",
    "##### 5. Iteration: loops and comprehensions\n",
    "##### 6. Writing functions\n",
    "\n",
    "##### Before we start new class, a few tips/resouces:\n",
    "- Jupyter Notebook [quickstart](https://jupyter.readthedocs.io/en/latest/content-quickstart.html): learn about how to use the basic functions and shortcuts.\n",
    "- Windox v.s. Unix commands [cheat sheet]: if you are not fluent in both (like me:) feel free to use this guide to understand what I'm trying to do and use the right command for your OS.\n",
    "- Git [interactive tutorial](https://learngitbranching.js.org/?locale=en_US): very easy to follow and you can try all the `git` commands in web browser.\n",
    "- Try to get comfortable with [using command line/terminal](https://www.codecademy.com/articles/command-line-commands), this resource gives you some general ideas about the basics.\n",
    "- More on [virtual environment](https://docs.conda.io/projects/conda/en/latest/user-guide/getting-started.html#managing-environments) if you are not sure why/how we set up `py3basics` after downloading Anaconda.\n",
    "- Use [issues](https://github.com/emma-oc/ds-class-intro/issues) in class repo for Q&A."
   ]
  },
  {
   "cell_type": "markdown",
   "metadata": {},
   "source": [
    "#### Exercise 0.\n",
    "Follow the instructions in [git tutorial](https://github.com/emma-oc/ds-class-intro/blob/master/class01/git_setup.md#task-for-the-class) to create your commit and push changes to your forked repo."
   ]
  },
  {
   "cell_type": "markdown",
   "metadata": {},
   "source": [
    "### 4. Collections: `list`, `tuple`, `set`, and `dictionary`\n",
    "\n",
    "Python has numerious build-in type of collections to help programmer to manage their data. They have different behavior and serve for different purpose\n",
    "\n",
    "#### 4.1 List\n",
    "Lists are the basic data container for accessing data that is stored according to postion. They are created using brackets `[ ]` or `list()` function.\n",
    "\n",
    "Note: list belongs to the category of `sequence` data types, meaning the order of items in the list matters. \n",
    "\n",
    "List can contain mixed data types."
   ]
  },
  {
   "cell_type": "code",
   "execution_count": 7,
   "metadata": {},
   "outputs": [],
   "source": [
    "one_list = list(\"Data Science\")\n",
    "num_list = [101, 3, 7, 9, 10]\n",
    "empty_list = list()\n",
    "empty_list = []\n",
    "mixed_list = [1,2,'3',False,'five']"
   ]
  },
  {
   "cell_type": "code",
   "execution_count": 9,
   "metadata": {},
   "outputs": [
    {
     "name": "stdout",
     "output_type": "stream",
     "text": [
      "['D', 'a', 't', 'a', ' ', 'S', 'c', 'i', 'e', 'n', 'c', 'e']\n",
      "[101, 3, 7, 9, 10]\n",
      "[]\n",
      "[1, 2, '3', False, 'five']\n",
      "<class 'str'> <class 'bool'>\n"
     ]
    }
   ],
   "source": [
    "print(one_list)\n",
    "print(num_list)\n",
    "print(empty_list)\n",
    "print(mixed_list)\n",
    "print(type(mixed_list[2]), type(mixed_list[3]))"
   ]
  },
  {
   "cell_type": "markdown",
   "metadata": {},
   "source": [
    "##### Slicing and indexing"
   ]
  },
  {
   "cell_type": "markdown",
   "metadata": {},
   "source": [
    "Like we already mentions for `str`, `list` also can be indexed, meaning you can refer to item in list by their position/order. Like all other indices in python, they start with `0`."
   ]
  },
  {
   "cell_type": "code",
   "execution_count": 4,
   "metadata": {},
   "outputs": [
    {
     "name": "stdout",
     "output_type": "stream",
     "text": [
      "D\n",
      "e\n"
     ]
    }
   ],
   "source": [
    "print(one_list[0])\n",
    "print(one_list[-1])"
   ]
  },
  {
   "cell_type": "markdown",
   "metadata": {},
   "source": [
    "We've already seen some slicing in strings, for lists, slicing works similarly"
   ]
  },
  {
   "cell_type": "code",
   "execution_count": 6,
   "metadata": {},
   "outputs": [
    {
     "name": "stdout",
     "output_type": "stream",
     "text": [
      "[7, 9]\n",
      "['e', 'c', 'n', 'e', 'i', 'c', 'S', ' ', 'a', 't', 'a', 'D']\n"
     ]
    }
   ],
   "source": [
    "print(num_list[2:-1])\n",
    "print(one_list[::-1])"
   ]
  },
  {
   "cell_type": "markdown",
   "metadata": {},
   "source": [
    "List can be nested, meaning elements of a list can be lists too. You can use multi indexing for multi-dimension list to access items."
   ]
  },
  {
   "cell_type": "code",
   "execution_count": 18,
   "metadata": {},
   "outputs": [
    {
     "name": "stdout",
     "output_type": "stream",
     "text": [
      "[[0, 1, 2, 3, 4], ['a', 'b', ['cccccccc']]]\n"
     ]
    }
   ],
   "source": [
    "nested_list = [list(range(5)), ['a', 'b', ['c'*8]]]\n",
    "print(nested_list)"
   ]
  },
  {
   "cell_type": "code",
   "execution_count": null,
   "metadata": {},
   "outputs": [],
   "source": [
    "# what does the following mean?\n",
    "print(nested_list[1][2][0][-1])"
   ]
  },
  {
   "cell_type": "code",
   "execution_count": null,
   "metadata": {},
   "outputs": [],
   "source": [
    "# how to index the number 4 in the list above? how about 'cccccccc'?\n"
   ]
  },
  {
   "cell_type": "markdown",
   "metadata": {},
   "source": [
    "##### List methods"
   ]
  },
  {
   "cell_type": "markdown",
   "metadata": {},
   "source": [
    "Lots of methods operate on lists and modify the object in place, and they do not return a value. This is different from a standard function with a `return` so you can assign the returned value to a variable name.\n",
    "\n",
    "This also means two things: 1) lists are [mutable](https://docs.python.org/3/glossary.html#term-mutable), 2) once you apply a method there os no way to revert the change. We will look at some examples below."
   ]
  },
  {
   "cell_type": "code",
   "execution_count": 40,
   "metadata": {},
   "outputs": [
    {
     "name": "stdout",
     "output_type": "stream",
     "text": [
      "['D', 'a', 't', 'a', ' ', 'S', 'c', 'i', 'e', 'n', 'c', 'e']\n"
     ]
    }
   ],
   "source": [
    "print(one_list)"
   ]
  },
  {
   "cell_type": "code",
   "execution_count": 41,
   "metadata": {},
   "outputs": [
    {
     "name": "stdout",
     "output_type": "stream",
     "text": [
      "['e', 'c', 'n', 'e', 'i', 'c', 'S', ' ', 'a', 't', 'a', 'D']\n"
     ]
    }
   ],
   "source": [
    "one_list.reverse()\n",
    "print(one_list)"
   ]
  },
  {
   "cell_type": "code",
   "execution_count": null,
   "metadata": {},
   "outputs": [],
   "source": [
    "# can you do this? why?\n",
    "one_list = one_list.reverse()\n"
   ]
  },
  {
   "cell_type": "code",
   "execution_count": 42,
   "metadata": {},
   "outputs": [
    {
     "name": "stdout",
     "output_type": "stream",
     "text": [
      "[' ', 'D', 'S', 'a', 'a', 'c', 'c', 'e', 'e', 'i', 'n', 't']\n"
     ]
    }
   ],
   "source": [
    "one_list.sort()\n",
    "print(one_list)"
   ]
  },
  {
   "cell_type": "code",
   "execution_count": 43,
   "metadata": {},
   "outputs": [
    {
     "data": {
      "text/plain": [
       "3"
      ]
     },
     "execution_count": 43,
     "metadata": {},
     "output_type": "execute_result"
    }
   ],
   "source": [
    "one_list.index('a')"
   ]
  },
  {
   "cell_type": "code",
   "execution_count": 44,
   "metadata": {},
   "outputs": [
    {
     "data": {
      "text/plain": [
       "[' ', 'D', 'S', 'a', 'a', 'c', 'c', 'e', 'e', 'i', 'n', 't', 101, 3, 7, 9, 10]"
      ]
     },
     "execution_count": 44,
     "metadata": {},
     "output_type": "execute_result"
    }
   ],
   "source": [
    "one_list + num_list"
   ]
  },
  {
   "cell_type": "code",
   "execution_count": 45,
   "metadata": {},
   "outputs": [
    {
     "name": "stdout",
     "output_type": "stream",
     "text": [
      "[' ', 'D', 'S', 'a', 'a', 'c', 'c', 'e', 'e', 'i', 'n', 't', ' ', 'D', 'S', 'a', 'a', 'c', 'c', 'e', 'e', 'i', 'n', 't']\n"
     ]
    }
   ],
   "source": [
    "print(one_list * 2)"
   ]
  },
  {
   "cell_type": "code",
   "execution_count": 46,
   "metadata": {},
   "outputs": [
    {
     "data": {
      "text/plain": [
       "True"
      ]
     },
     "execution_count": 46,
     "metadata": {},
     "output_type": "execute_result"
    }
   ],
   "source": [
    "'i' in one_list"
   ]
  },
  {
   "cell_type": "code",
   "execution_count": 47,
   "metadata": {},
   "outputs": [
    {
     "name": "stdout",
     "output_type": "stream",
     "text": [
      "[' ', 'D', 'S', 'a', 'a', 'c', 'c', 'e', 'e', 'i', 'n', 't', 'Data Science']\n"
     ]
    }
   ],
   "source": [
    "one_list.append('Data Science')\n",
    "print(one_list)"
   ]
  },
  {
   "cell_type": "code",
   "execution_count": 48,
   "metadata": {},
   "outputs": [
    {
     "name": "stdout",
     "output_type": "stream",
     "text": [
      "[' ', 'D', 'S', 'a', 'a', 'c', 'c', 'e', 'e', 'i', 'n', 't']\n"
     ]
    }
   ],
   "source": [
    "one_list.remove('Data Science')\n",
    "print(one_list)"
   ]
  },
  {
   "cell_type": "markdown",
   "metadata": {},
   "source": [
    "The `del` statement can also be used to remove slices from a list or clear the entire list (which we did earlier by assignment of an empty list to the slice)."
   ]
  },
  {
   "cell_type": "code",
   "execution_count": 49,
   "metadata": {},
   "outputs": [
    {
     "name": "stdout",
     "output_type": "stream",
     "text": [
      "['D', 'S', 'a', 'a', 'c', 'c', 'e', 'e', 'i', 'n', 't']\n"
     ]
    }
   ],
   "source": [
    "del one_list[0]\n",
    "print(one_list)"
   ]
  },
  {
   "cell_type": "code",
   "execution_count": 50,
   "metadata": {},
   "outputs": [
    {
     "name": "stdout",
     "output_type": "stream",
     "text": [
      "a\n",
      "['D', 'S', 'a', 'c', 'c', 'e', 'e', 'i', 'n', 't']\n"
     ]
    }
   ],
   "source": [
    "# \n",
    "popped = one_list.pop(2)\n",
    "print(popped)\n",
    "print(one_list)"
   ]
  },
  {
   "cell_type": "code",
   "execution_count": 51,
   "metadata": {},
   "outputs": [
    {
     "name": "stdout",
     "output_type": "stream",
     "text": [
      "['D', 'S', 'a', 'a', 'c', 'c', 'e', 'e', 'i', 'n', 't']\n"
     ]
    }
   ],
   "source": [
    "# we can put it back\n",
    "one_list.insert(2, popped)\n",
    "print(one_list)"
   ]
  },
  {
   "cell_type": "markdown",
   "metadata": {},
   "source": [
    "List can contain anything, your dataframe or you model object could be stored in lists, and it is defintely one of the most widely used collections. [Read more on lists](https://docs.python.org/3/tutorial/datastructures.html#more-on-lists) on your own."
   ]
  },
  {
   "cell_type": "markdown",
   "metadata": {},
   "source": [
    "#### 4.2 Tuples"
   ]
  },
  {
   "cell_type": "markdown",
   "metadata": {},
   "source": [
    "Tuple is a collection of Python objects similar to list, except tutples are immutable. Tuple is created using `()`. Tuples are a little bit faster to use than lists, as you will not make any updates or delete anything. It can also be really helpful if you know the data is not supposed to change, using a tuple can protect youself against accidentally changing it."
   ]
  },
  {
   "cell_type": "code",
   "execution_count": 64,
   "metadata": {},
   "outputs": [
    {
     "name": "stdout",
     "output_type": "stream",
     "text": [
      "Data Science\n",
      "['D', 'a', 't', 'a', ' ', 'S', 'c', 'i', 'e', 'n', 'c', 'e']\n",
      "7\n",
      "(1, 2, 3, 5, 'a', [10, 8, 9])\n"
     ]
    },
    {
     "ename": "TypeError",
     "evalue": "'tuple' object does not support item assignment",
     "output_type": "error",
     "traceback": [
      "\u001b[0;31m---------------------------------------------------------------------------\u001b[0m",
      "\u001b[0;31mTypeError\u001b[0m                                 Traceback (most recent call last)",
      "\u001b[0;32m<ipython-input-64-65cc68a5fdd0>\u001b[0m in \u001b[0;36m<module>\u001b[0;34m\u001b[0m\n\u001b[1;32m     10\u001b[0m \u001b[0mmixed_tuple\u001b[0m\u001b[0;34m[\u001b[0m\u001b[0;34m-\u001b[0m\u001b[0;36m1\u001b[0m\u001b[0;34m]\u001b[0m\u001b[0;34m[\u001b[0m\u001b[0;36m0\u001b[0m\u001b[0;34m]\u001b[0m \u001b[0;34m=\u001b[0m \u001b[0;36m10\u001b[0m\u001b[0;34m\u001b[0m\u001b[0m\n\u001b[1;32m     11\u001b[0m \u001b[0mprint\u001b[0m\u001b[0;34m(\u001b[0m\u001b[0mmixed_tuple\u001b[0m\u001b[0;34m)\u001b[0m\u001b[0;34m\u001b[0m\u001b[0m\n\u001b[0;32m---> 12\u001b[0;31m \u001b[0mmixed_tuple\u001b[0m\u001b[0;34m[\u001b[0m\u001b[0;34m-\u001b[0m\u001b[0;36m2\u001b[0m\u001b[0;34m]\u001b[0m \u001b[0;34m=\u001b[0m \u001b[0;36m6\u001b[0m\u001b[0;34m\u001b[0m\u001b[0m\n\u001b[0m",
      "\u001b[0;31mTypeError\u001b[0m: 'tuple' object does not support item assignment"
     ]
    }
   ],
   "source": [
    "one_tuple = ('Data Science') # use () instead of [] to create a tuple\n",
    "print(one_tuple)\n",
    "one_tuple = (list('Data Science'))\n",
    "print(one_tuple)\n",
    "# why the difference?\n",
    "\n",
    "mixed_tuple = (1, 2, 3, 5, \"a\", [7,8,9])\n",
    "print(mixed_tuple[-1][0])\n",
    "# there are weird things though...\n",
    "mixed_tuple[-1][0] = 10\n",
    "print(mixed_tuple)\n",
    "mixed_tuple[-2] = 6"
   ]
  },
  {
   "cell_type": "markdown",
   "metadata": {},
   "source": [
    "The indexing and slicing work similarly for tuples as they do for lists. However as tuples are immutable, some the list methods may not work on them. You can read more about [tuple methods](https://docs.python.org/3/tutorial/datastructures.html#tuples-and-sequences)."
   ]
  },
  {
   "cell_type": "markdown",
   "metadata": {},
   "source": [
    "#### 4.3 Sets"
   ]
  },
  {
   "cell_type": "markdown",
   "metadata": {},
   "source": [
    "Sets are also a kind of collection in python, it differs from list and tuples mainly because it has no order or position. Unlike the previous two, it is not a member of `sequence`. Also, a set does not allow multiple copy of same item, it is either contain `0` or `1` copy of item of a kind. Sets are defined by `set()` or `{}`.\n",
    "\n",
    "Set can have items of multiple data types. Set can not be indexed as it's not ordered. Set is mutable, but the elements contained must be immutable (e.g. can't have a list as an item in set)."
   ]
  },
  {
   "cell_type": "code",
   "execution_count": 73,
   "metadata": {},
   "outputs": [
    {
     "name": "stdout",
     "output_type": "stream",
     "text": [
      "{'a', 't', 'n', ' ', 'D', 'S', 'c', 'e', 'i'}\n",
      "['D', 'a', 't', 'a', ' ', 'S', 'c', 'i', 'e', 'n', 'c', 'e']\n",
      "{1.3, 'abc', True}\n"
     ]
    }
   ],
   "source": [
    "one_set = set('Data Science')\n",
    "print(one_set) # ordered\n",
    "print(list('Data Science'))\n",
    "\n",
    "print(set(['abc', 1.3, True]))"
   ]
  },
  {
   "cell_type": "code",
   "execution_count": 74,
   "metadata": {},
   "outputs": [
    {
     "name": "stdout",
     "output_type": "stream",
     "text": [
      "{'a', 't', 'n', ' ', 'D', 'S', 'c', 'e', '!', 'i'}\n"
     ]
    }
   ],
   "source": [
    "one_set.add('!')\n",
    "print(one_set)"
   ]
  },
  {
   "cell_type": "code",
   "execution_count": 75,
   "metadata": {},
   "outputs": [
    {
     "ename": "TypeError",
     "evalue": "'set' object does not support indexing",
     "output_type": "error",
     "traceback": [
      "\u001b[0;31m---------------------------------------------------------------------------\u001b[0m",
      "\u001b[0;31mTypeError\u001b[0m                                 Traceback (most recent call last)",
      "\u001b[0;32m<ipython-input-75-8644237d4bb6>\u001b[0m in \u001b[0;36m<module>\u001b[0;34m\u001b[0m\n\u001b[0;32m----> 1\u001b[0;31m \u001b[0mone_set\u001b[0m\u001b[0;34m[\u001b[0m\u001b[0;36m0\u001b[0m\u001b[0;34m]\u001b[0m\u001b[0;34m\u001b[0m\u001b[0m\n\u001b[0m",
      "\u001b[0;31mTypeError\u001b[0m: 'set' object does not support indexing"
     ]
    }
   ],
   "source": [
    "one_set[0]"
   ]
  },
  {
   "cell_type": "code",
   "execution_count": 76,
   "metadata": {},
   "outputs": [
    {
     "data": {
      "text/plain": [
       "True"
      ]
     },
     "execution_count": 76,
     "metadata": {},
     "output_type": "execute_result"
    }
   ],
   "source": [
    "'!' in one_set"
   ]
  },
  {
   "cell_type": "markdown",
   "metadata": {},
   "source": [
    "Set objects also support mathematical operations like union, intersection, difference, and symmetric difference. These are defined similarly as in math."
   ]
  },
  {
   "cell_type": "code",
   "execution_count": 77,
   "metadata": {},
   "outputs": [
    {
     "name": "stdout",
     "output_type": "stream",
     "text": [
      "{'d', 'b', 'r'}\n",
      "{'a', 'm', 'd', 'r', 'z', 'c', 'b', 'l'}\n",
      "{'a', 'c'}\n",
      "{'m', 'z', 'b', 'l', 'd', 'r'}\n"
     ]
    }
   ],
   "source": [
    "a = set('abracadabra')\n",
    "b = set('alacazam')\n",
    "print(a - b)                              # letters in a but not in b\n",
    "print(a | b)                              # letters in a or b or both\n",
    "print(a & b)                              # letters in both a and b\n",
    "print(a ^ b)                              # letters in a or b but not both"
   ]
  },
  {
   "cell_type": "code",
   "execution_count": null,
   "metadata": {},
   "outputs": [],
   "source": [
    "# what are these?\n",
    "print(a.difference(b))\n",
    "print(a.union(b))\n",
    "print(a.intersection(b))\n",
    "print(a.symmetric_difference(b))"
   ]
  },
  {
   "cell_type": "markdown",
   "metadata": {},
   "source": [
    "#### 4.4 Dictionary"
   ]
  },
  {
   "cell_type": "markdown",
   "metadata": {},
   "source": [
    "Python dictionaries are used whenever you have a collection of objects that you want to access by name rather than index. Dictionary can be defined by `dict()` or `{key:value}`, notice here a dictionary will have to have `key:value` pairs separated by comma `,` in `{}`. Key is the name you'll index the value by. Dictionaries are referred to as “associative memories” or “associative arrays” in some other languages.\n",
    "\n",
    "A dictionary is a collection which is unordered, mutable and can be indexed.\n",
    "\n",
    "The name you use to refer to an item is called the `key`, and the item itself is called the `value`. Dictionaries are just a way of organizing a collection of key-value pairs. Since `key` is used for indexing, all keys are unique - if a `key` already exists in a dictionary, you cannot add a second one with the same `key` value. \n",
    "\n",
    "`key` and `value` can be lots of data types, even collections. However, you can’t use lists as keys, since lists can be modified in place using index assignments, slice assignments, or methods like `append()` and `extend()`.\n",
    "\n",
    "Below are 3 ways to generate a dictionary."
   ]
  },
  {
   "cell_type": "code",
   "execution_count": 107,
   "metadata": {},
   "outputs": [
    {
     "ename": "SyntaxError",
     "evalue": "keyword can't be an expression (<ipython-input-107-674e7b26b9ba>, line 1)",
     "output_type": "error",
     "traceback": [
      "\u001b[0;36m  File \u001b[0;32m\"<ipython-input-107-674e7b26b9ba>\"\u001b[0;36m, line \u001b[0;32m1\u001b[0m\n\u001b[0;31m    one_dict = dict(data='science', science=0, 0='data')\u001b[0m\n\u001b[0m                                              ^\u001b[0m\n\u001b[0;31mSyntaxError\u001b[0m\u001b[0;31m:\u001b[0m keyword can't be an expression\n"
     ]
    }
   ],
   "source": [
    "one_dict = dict(data='science', science=0, 0='data')\n",
    "one_dict = dict(data='science', science=0)\n",
    "print(one_dict)"
   ]
  },
  {
   "cell_type": "code",
   "execution_count": 99,
   "metadata": {},
   "outputs": [
    {
     "name": "stdout",
     "output_type": "stream",
     "text": [
      "0\n",
      "science\n"
     ]
    }
   ],
   "source": [
    "print(one_dict['science'])\n",
    "print(one_dict['data'])"
   ]
  },
  {
   "cell_type": "code",
   "execution_count": 100,
   "metadata": {},
   "outputs": [
    {
     "name": "stdout",
     "output_type": "stream",
     "text": [
      "dict_keys(['data', 'science'])\n"
     ]
    }
   ],
   "source": [
    "print(one_dict.keys())"
   ]
  },
  {
   "cell_type": "code",
   "execution_count": 101,
   "metadata": {},
   "outputs": [
    {
     "name": "stdout",
     "output_type": "stream",
     "text": [
      "{'data': 'science', 'science': 0, 0: 'data'}\n",
      "data\n"
     ]
    }
   ],
   "source": [
    "# you can also do this...\n",
    "two_dict = {'data':'science', 'science':0, 0:'data'}\n",
    "print(two_dict)\n",
    "print(two_dict[0])"
   ]
  },
  {
   "cell_type": "code",
   "execution_count": 117,
   "metadata": {},
   "outputs": [
    {
     "name": "stdout",
     "output_type": "stream",
     "text": [
      "dict_keys(['data', 'science', 0])\n",
      "dict_values(['science', 0, 'data'])\n",
      "dict_items([('data', 'science'), ('science', 0), (0, 'data')])\n"
     ]
    }
   ],
   "source": [
    "print(two_dict.keys())\n",
    "print(two_dict.values())\n",
    "print(two_dict.items())"
   ]
  },
  {
   "cell_type": "code",
   "execution_count": 103,
   "metadata": {},
   "outputs": [
    {
     "ename": "TypeError",
     "evalue": "'dict_values' object does not support indexing",
     "output_type": "error",
     "traceback": [
      "\u001b[0;31m---------------------------------------------------------------------------\u001b[0m",
      "\u001b[0;31mTypeError\u001b[0m                                 Traceback (most recent call last)",
      "\u001b[0;32m<ipython-input-103-0745d7abb10d>\u001b[0m in \u001b[0;36m<module>\u001b[0;34m\u001b[0m\n\u001b[1;32m      1\u001b[0m \u001b[0;31m# you can't index by position\u001b[0m\u001b[0;34m\u001b[0m\u001b[0;34m\u001b[0m\u001b[0m\n\u001b[0;32m----> 2\u001b[0;31m \u001b[0mprint\u001b[0m\u001b[0;34m(\u001b[0m\u001b[0mtwo_dict\u001b[0m\u001b[0;34m.\u001b[0m\u001b[0mvalues\u001b[0m\u001b[0;34m(\u001b[0m\u001b[0;34m)\u001b[0m\u001b[0;34m[\u001b[0m\u001b[0;36m0\u001b[0m\u001b[0;34m]\u001b[0m\u001b[0;34m)\u001b[0m\u001b[0;34m\u001b[0m\u001b[0m\n\u001b[0m",
      "\u001b[0;31mTypeError\u001b[0m: 'dict_values' object does not support indexing"
     ]
    }
   ],
   "source": [
    "# you can't index by position\n",
    "print(two_dict.values()[0])"
   ]
  },
  {
   "cell_type": "code",
   "execution_count": 104,
   "metadata": {},
   "outputs": [
    {
     "data": {
      "text/plain": [
       "'science'"
      ]
     },
     "execution_count": 104,
     "metadata": {},
     "output_type": "execute_result"
    }
   ],
   "source": [
    "# what if i have to? (but why...)\n",
    "list(two_dict.values())[0]"
   ]
  },
  {
   "cell_type": "code",
   "execution_count": 106,
   "metadata": {},
   "outputs": [
    {
     "name": "stdout",
     "output_type": "stream",
     "text": [
      "{}\n"
     ]
    }
   ],
   "source": [
    "three_dict = {}\n",
    "print(three_dict)"
   ]
  },
  {
   "cell_type": "code",
   "execution_count": 108,
   "metadata": {},
   "outputs": [],
   "source": [
    "three_dict['data'] = 'science'\n",
    "three_dict['science'] = 0\n",
    "three_dict[0] = one_dict"
   ]
  },
  {
   "cell_type": "code",
   "execution_count": 109,
   "metadata": {},
   "outputs": [
    {
     "name": "stdout",
     "output_type": "stream",
     "text": [
      "{'data': 'science', 'science': 0, 0: {'data': 'science', 'science': 0}}\n"
     ]
    }
   ],
   "source": [
    "print(three_dict)"
   ]
  },
  {
   "cell_type": "code",
   "execution_count": null,
   "metadata": {},
   "outputs": [],
   "source": [
    "# can you do this?\n",
    "three_dict[(1,2)] = [1,2]\n",
    "print(three_dict[(1,2)])"
   ]
  },
  {
   "cell_type": "code",
   "execution_count": null,
   "metadata": {},
   "outputs": [],
   "source": [
    "# can you do this?\n",
    "three_dict[[1,2]] = (1,2)\n",
    "print(three_dict[[1,2]])"
   ]
  },
  {
   "cell_type": "markdown",
   "metadata": {},
   "source": [
    "Strings, ints, floats, tuples all worked but lists didn't. The error says `unhashable type`, what does that mean?\n",
    "\n",
    "Essentially, to make dictionaries function properly, Python need a way to convert an object to a number really fast. This function is called hash and strings, ints, floats, tuples all have an implementation of this that Python can use. Unfirtunately, lists do not come with a hash function."
   ]
  },
  {
   "cell_type": "markdown",
   "metadata": {},
   "source": [
    "You can access value by `dictionary[key]` or `dictionary.get(key)`. But value assignment is only available in the first way. Why?"
   ]
  },
  {
   "cell_type": "code",
   "execution_count": 114,
   "metadata": {},
   "outputs": [
    {
     "name": "stdout",
     "output_type": "stream",
     "text": [
      "science\n",
      "science\n"
     ]
    }
   ],
   "source": [
    "print(three_dict['data'])\n",
    "print(three_dict.get('data'))"
   ]
  },
  {
   "cell_type": "code",
   "execution_count": 115,
   "metadata": {},
   "outputs": [
    {
     "ename": "SyntaxError",
     "evalue": "can't assign to function call (<ipython-input-115-cca7febba5eb>, line 2)",
     "output_type": "error",
     "traceback": [
      "\u001b[0;36m  File \u001b[0;32m\"<ipython-input-115-cca7febba5eb>\"\u001b[0;36m, line \u001b[0;32m2\u001b[0m\n\u001b[0;31m    three_dict.get('data') ='nonsense'\u001b[0m\n\u001b[0m                                      ^\u001b[0m\n\u001b[0;31mSyntaxError\u001b[0m\u001b[0;31m:\u001b[0m can't assign to function call\n"
     ]
    }
   ],
   "source": [
    "three_dict['data'] = 'nonsense'\n",
    "three_dict.get('data') = 'nonsense'"
   ]
  },
  {
   "cell_type": "markdown",
   "metadata": {},
   "source": [
    "Dictionaries are very special in python with flexbility and readability. It's usually used to store paramters and other paired values.\n",
    "\n",
    "In general, refering to objects by name is a better coding practice than refering to them by position, this is recomended as a general good practice whenever possible. It certainlly makes your code much more readable."
   ]
  },
  {
   "cell_type": "markdown",
   "metadata": {},
   "source": [
    "In general, refering to objects by name is a better coding practice than refering to them by position, this is recomended as a general good practice whenever possible. It certainlly makes your code much more readable."
   ]
  },
  {
   "cell_type": "markdown",
   "metadata": {},
   "source": [
    "#### 4.5 Some functions for collections"
   ]
  },
  {
   "cell_type": "markdown",
   "metadata": {},
   "source": [
    "There are lots of functions that can take collections as input. Most common ones include `len()` and `sum()`. \n",
    "\n",
    "`len()` checks the length of a collection"
   ]
  },
  {
   "cell_type": "code",
   "execution_count": 126,
   "metadata": {},
   "outputs": [
    {
     "name": "stdout",
     "output_type": "stream",
     "text": [
      "11\n",
      "10\n",
      "2\n"
     ]
    }
   ],
   "source": [
    "print(len(one_list))\n",
    "\n",
    "print(len(one_set))\n",
    "\n",
    "print(len(one_dict))"
   ]
  },
  {
   "cell_type": "code",
   "execution_count": 127,
   "metadata": {},
   "outputs": [
    {
     "data": {
      "text/plain": [
       "7"
      ]
     },
     "execution_count": 127,
     "metadata": {},
     "output_type": "execute_result"
    }
   ],
   "source": [
    "len('asjdfla')"
   ]
  },
  {
   "cell_type": "markdown",
   "metadata": {},
   "source": [
    "`sum()` calculates the sum of all items in a collection. As you can imagine, this only apply to numerical collections."
   ]
  },
  {
   "cell_type": "code",
   "execution_count": 130,
   "metadata": {},
   "outputs": [
    {
     "name": "stdout",
     "output_type": "stream",
     "text": [
      "130\n"
     ]
    },
    {
     "ename": "TypeError",
     "evalue": "unsupported operand type(s) for +: 'int' and 'str'",
     "output_type": "error",
     "traceback": [
      "\u001b[0;31m---------------------------------------------------------------------------\u001b[0m",
      "\u001b[0;31mTypeError\u001b[0m                                 Traceback (most recent call last)",
      "\u001b[0;32m<ipython-input-130-cd937d2b231f>\u001b[0m in \u001b[0;36m<module>\u001b[0;34m\u001b[0m\n\u001b[1;32m      1\u001b[0m \u001b[0mprint\u001b[0m\u001b[0;34m(\u001b[0m\u001b[0msum\u001b[0m\u001b[0;34m(\u001b[0m\u001b[0mnum_list\u001b[0m\u001b[0;34m)\u001b[0m\u001b[0;34m)\u001b[0m\u001b[0;34m\u001b[0m\u001b[0m\n\u001b[0;32m----> 2\u001b[0;31m \u001b[0mprint\u001b[0m\u001b[0;34m(\u001b[0m\u001b[0msum\u001b[0m\u001b[0;34m(\u001b[0m\u001b[0mone_list\u001b[0m\u001b[0;34m)\u001b[0m\u001b[0;34m)\u001b[0m\u001b[0;34m\u001b[0m\u001b[0m\n\u001b[0m",
      "\u001b[0;31mTypeError\u001b[0m: unsupported operand type(s) for +: 'int' and 'str'"
     ]
    }
   ],
   "source": [
    "print(sum(num_list))\n",
    "num_set = {1,2,3,4,5}\n",
    "sum(num_set)\n",
    "print(sum(one_list))"
   ]
  },
  {
   "cell_type": "markdown",
   "metadata": {},
   "source": [
    "#### 4.6 `copy` of collections\n",
    "\n",
    "Assignment statements in Python do not copy objects, they create bindings between a target and an object. \n",
    "\n",
    "For collections that are mutable or contain mutable items, a copy is sometimes needed so one can change one copy without changing the other. This module provides generic shallow and deep copy operations (detailed explained [here](https://docs.python.org/2/library/copy.html))."
   ]
  },
  {
   "cell_type": "code",
   "execution_count": 144,
   "metadata": {},
   "outputs": [
    {
     "name": "stdout",
     "output_type": "stream",
     "text": [
      "['D', 'S', 'a', 'a', 'c', 'c', 'e', 'e', 'i', 'n', 't']\n",
      "['D', 'S', 'a', 'a', 'c', 'c', 'e', 'e', 'i', 'n', 't']\n"
     ]
    }
   ],
   "source": [
    "print(one_list)\n",
    "a = one_list\n",
    "print(a)"
   ]
  },
  {
   "cell_type": "markdown",
   "metadata": {},
   "source": [
    "Here both `one_list` and `a` are mutable type list, so `a=one_list` does not copy `one_list`. Instead, `a` is pointed to the object labeld as `one_list`. Both labels are now binded to the same list. We can try if this is true."
   ]
  },
  {
   "cell_type": "code",
   "execution_count": 145,
   "metadata": {},
   "outputs": [
    {
     "name": "stdout",
     "output_type": "stream",
     "text": [
      "['d', 'S', 'a', 'a', 'c', 'c', 'e', 'e', 'i', 'n', 't']\n"
     ]
    }
   ],
   "source": [
    "a[0] = 'd'\n",
    "print(one_list)"
   ]
  },
  {
   "cell_type": "markdown",
   "metadata": {},
   "source": [
    "This confirmed our thought. Also you can confirm by compare the two."
   ]
  },
  {
   "cell_type": "code",
   "execution_count": 146,
   "metadata": {},
   "outputs": [
    {
     "data": {
      "text/plain": [
       "True"
      ]
     },
     "execution_count": 146,
     "metadata": {},
     "output_type": "execute_result"
    }
   ],
   "source": [
    "a is one_list"
   ]
  },
  {
   "cell_type": "markdown",
   "metadata": {},
   "source": [
    "What if you want two objects instead of two lables? You can explictly make copy instead of assigning value. There are deep and shallow copies. \n",
    "- shallow copy: two labels, two objects, but share the same underlying elements. And when collections share a mutable item (list, set, dict, etc.) the item can be changed through both references.\n",
    "- deep copy: two labels, two completed separated objects. No sharing. Actually, you're very unlikely to need to use deep copy..."
   ]
  },
  {
   "cell_type": "code",
   "execution_count": 149,
   "metadata": {},
   "outputs": [
    {
     "name": "stdout",
     "output_type": "stream",
     "text": [
      "['d', 'S', 'a', 'a', 'c', 'c', 'e', 'e', 'i', 'n', 't', [1, 2, 3]]\n",
      "['d', 'S', 'a', 'a', 'c', 'c', 'e', 'e', 'i', 'n', 't', [1, 2, 3]]\n",
      "False\n"
     ]
    }
   ],
   "source": [
    "# shallow copy\n",
    "one_list.append([1,2,3])\n",
    "a = one_list.copy()\n",
    "print(one_list)\n",
    "print(a)\n",
    "print(one_list is a)"
   ]
  },
  {
   "cell_type": "code",
   "execution_count": 150,
   "metadata": {},
   "outputs": [
    {
     "name": "stdout",
     "output_type": "stream",
     "text": [
      "['D', 'S', 'a', 'a', 'c', 'c', 'e', 'e', 'i', 'n', 't', [1, 2, 3]]\n",
      "['d', 'S', 'a', 'a', 'c', 'c', 'e', 'e', 'i', 'n', 't', [1, 2, 3]]\n"
     ]
    }
   ],
   "source": [
    "a[0] = 'D'\n",
    "print(a)\n",
    "print(one_list)"
   ]
  },
  {
   "cell_type": "code",
   "execution_count": 151,
   "metadata": {},
   "outputs": [
    {
     "name": "stdout",
     "output_type": "stream",
     "text": [
      "['D', 'S', 'a', 'a', 'c', 'c', 'e', 'e', 'i', 'n', 't', ['magic', 2, 3]]\n",
      "['d', 'S', 'a', 'a', 'c', 'c', 'e', 'e', 'i', 'n', 't', ['magic', 2, 3]]\n"
     ]
    }
   ],
   "source": [
    "a[-1][0] = 'magic'\n",
    "print(a)\n",
    "print(one_list)"
   ]
  },
  {
   "cell_type": "code",
   "execution_count": 153,
   "metadata": {},
   "outputs": [
    {
     "name": "stdout",
     "output_type": "stream",
     "text": [
      "['d', 'S', 'a', 'a', 'c', 'c', 'e', 'e', 'i', 'n', 't', ['magic', 2, 3]]\n",
      "['d', 'S', 'a', 'a', 'c', 'c', 'e', 'e', 'i', 'n', 't', ['magic', 2, 3]]\n",
      "False\n"
     ]
    }
   ],
   "source": [
    "# deep copy\n",
    "import copy\n",
    "deep_a = copy.deepcopy(one_list)\n",
    "print(one_list)\n",
    "print(deep_a)\n",
    "print(one_list is deep_a)"
   ]
  },
  {
   "cell_type": "code",
   "execution_count": 155,
   "metadata": {},
   "outputs": [
    {
     "name": "stdout",
     "output_type": "stream",
     "text": [
      "['d', 'S', 'a', 'a', 'c', 'c', 'e', 'e', 'i', 'n', 't', [1, 2, 3]]\n",
      "['d', 'S', 'a', 'a', 'c', 'c', 'e', 'e', 'i', 'n', 't', ['magic', 2, 3]]\n"
     ]
    }
   ],
   "source": [
    "deep_a[-1][0] = 1\n",
    "print(deep_a)\n",
    "print(one_list)"
   ]
  },
  {
   "cell_type": "markdown",
   "metadata": {},
   "source": [
    "The key concept of `mutability` and `copy` exists in other data structure too, like `dataframe` and `series`. Keep in mind you are operating on different labels most of the time when you are using value assignment. "
   ]
  },
  {
   "cell_type": "markdown",
   "metadata": {},
   "source": [
    "#### Exercise 4. "
   ]
  },
  {
   "cell_type": "markdown",
   "metadata": {},
   "source": [
    "1. [Read more on `list`](https://docs.python.org/3/tutorial/datastructures.html#more-on-lists) and select 2 list methods not mentioned in class to give examples of using them."
   ]
  },
  {
   "cell_type": "markdown",
   "metadata": {},
   "source": [
    "2. How can you check if a `key` is already in a dictionary? Give an example."
   ]
  },
  {
   "cell_type": "markdown",
   "metadata": {},
   "source": [
    "3. [Explore how `Counter`](https://docs.python.org/3/library/collections.html#collections.Counter) works as another type of collection. Give 2 examples to use `Counter`."
   ]
  },
  {
   "cell_type": "markdown",
   "metadata": {},
   "source": [
    "4. The Fibonacci Sequence is the series of numbers:\n",
    "0, 1, 1, 2, 3, 5, 8, 13, 21, 34, ...\n",
    "\n",
    "The next number is found by adding up the two numbers before it.\n",
    "Find the last element of the `fibolist`"
   ]
  },
  {
   "cell_type": "code",
   "execution_count": null,
   "metadata": {},
   "outputs": [],
   "source": [
    "fibolist=[0, 1, 1, 2, 3, 5, 8, 13, 21, 34, 55, 89, 144, 233, 377, 610, 987, 1597, 2584, 4181, 6765, 10946, 17711, 28657, 46368, 75025, 121393, 196418, 317811]\n",
    "\n",
    "# code your solution here"
   ]
  },
  {
   "cell_type": "markdown",
   "metadata": {},
   "source": [
    "5. Calculate the sum of `fibolist`"
   ]
  },
  {
   "cell_type": "code",
   "execution_count": null,
   "metadata": {},
   "outputs": [],
   "source": [
    "# code your solution here"
   ]
  },
  {
   "cell_type": "markdown",
   "metadata": {},
   "source": [
    "6. Calculate and append the next fibonacci number to `fibolist`."
   ]
  },
  {
   "cell_type": "code",
   "execution_count": null,
   "metadata": {},
   "outputs": [],
   "source": [
    "# code your solution here"
   ]
  },
  {
   "cell_type": "markdown",
   "metadata": {},
   "source": [
    "7. Create a reversed copy of fibolist without permanently reversing fibolist liteslf."
   ]
  },
  {
   "cell_type": "code",
   "execution_count": null,
   "metadata": {},
   "outputs": [],
   "source": [
    "# code your solution here"
   ]
  },
  {
   "cell_type": "markdown",
   "metadata": {},
   "source": [
    "8. Check if `29473` is a fibonacci number, and assign the anser to variable `fibo_29473`"
   ]
  },
  {
   "cell_type": "code",
   "execution_count": null,
   "metadata": {},
   "outputs": [],
   "source": [
    "# code your solution here"
   ]
  },
  {
   "cell_type": "markdown",
   "metadata": {},
   "source": [
    "9. Create two sets. Calculate the union, intersection, difference and symmetric difference for the two sets."
   ]
  },
  {
   "cell_type": "code",
   "execution_count": null,
   "metadata": {},
   "outputs": [],
   "source": [
    "# code your solution here"
   ]
  },
  {
   "cell_type": "markdown",
   "metadata": {},
   "source": [
    "10. Creat a dictionary using at least two different methods."
   ]
  },
  {
   "cell_type": "code",
   "execution_count": null,
   "metadata": {},
   "outputs": [],
   "source": [
    "# code your solution here"
   ]
  },
  {
   "cell_type": "markdown",
   "metadata": {},
   "source": [
    "11. Check if `2` and `9999` are fibonacci numbers. Create a dictionary `fibo_dict` with the numbers as keys, and value=`True` if the number is fibonacci number, and `False` otherwise."
   ]
  },
  {
   "cell_type": "code",
   "execution_count": null,
   "metadata": {},
   "outputs": [],
   "source": [
    "# code your solution here"
   ]
  },
  {
   "cell_type": "markdown",
   "metadata": {},
   "source": [
    "## 5. Iteration: loops and comprehensions"
   ]
  },
  {
   "cell_type": "markdown",
   "metadata": {},
   "source": [
    "We have already learned `if-elif-else` statement to create conditional code for control. Also we now know collections to store data and information. Now we can piece them together and make it powerful with iterations. Here we will cover two methods first."
   ]
  },
  {
   "cell_type": "markdown",
   "metadata": {},
   "source": [
    "### 5.1 `for` loops"
   ]
  },
  {
   "cell_type": "code",
   "execution_count": 158,
   "metadata": {},
   "outputs": [
    {
     "name": "stdout",
     "output_type": "stream",
     "text": [
      "DDDD\n",
      "aaaa\n",
      "tttt\n",
      "aaaa\n",
      "    \n",
      "SSSS\n",
      "cccc\n",
      "iiii\n",
      "eeee\n",
      "nnnn\n",
      "cccc\n",
      "eeee\n"
     ]
    }
   ],
   "source": [
    "one_list = list('Data Science')\n",
    "for c in one_list:\n",
    "    print(c*4)"
   ]
  },
  {
   "cell_type": "markdown",
   "metadata": {},
   "source": [
    "As we learned, collections usually contain multiple (sometimes just one) items, the `for` statement iterates over the iterable item `one_list`, and the indented code block is executed for each item in the list.\n",
    "\n",
    "`for` loop is simple yet super powerful. We can combine it with the conditional statement we learned now."
   ]
  },
  {
   "cell_type": "code",
   "execution_count": 164,
   "metadata": {},
   "outputs": [],
   "source": [
    "one_list = list('Data Science')\n",
    "string = ''\n",
    "upper = []\n",
    "lower = []\n",
    "other = []\n",
    "\n",
    "for c in one_list:\n",
    "    string += c\n",
    "    if c.isupper():\n",
    "        upper.append(c)\n",
    "    elif c.islower():\n",
    "        lower.append(c)\n",
    "    else:\n",
    "        other.append(c)\n",
    "        \n",
    "one_dict = {'upper':upper, 'lower':lower, 'other':other, 'string':string}"
   ]
  },
  {
   "cell_type": "code",
   "execution_count": null,
   "metadata": {},
   "outputs": [],
   "source": [
    "# what is this final dict?\n",
    "print(one_dict)"
   ]
  },
  {
   "cell_type": "markdown",
   "metadata": {},
   "source": [
    "`for` loop will work on any [iterable](https://docs.python.org/3/glossary.html) object. The `for` statement will execute the indented code block until the items in the iterable is exhausted. You don't need to know the size/length of the iterable ahead of time."
   ]
  },
  {
   "cell_type": "markdown",
   "metadata": {},
   "source": [
    "### 5.2 Partial loop using `break` and `continue`\n",
    "\n",
    "`for` loop will be executed for all items in iterable, but what if I don't want that?\n",
    "\n",
    "`break` acts as a hard stop on the loop execution, code will exit from the loop. Note that if `break` is not wrapped within a condition, it will always break out of the loop."
   ]
  },
  {
   "cell_type": "code",
   "execution_count": 167,
   "metadata": {},
   "outputs": [
    {
     "name": "stdout",
     "output_type": "stream",
     "text": [
      "1\n",
      "2\n",
      "3\n",
      "4\n",
      "5\n",
      "6\n",
      "6\n"
     ]
    }
   ],
   "source": [
    "for i in range(1,10):\n",
    "    print(i)\n",
    "    if i%2==0 and i%3==0:\n",
    "        break\n",
    "print(i)"
   ]
  },
  {
   "cell_type": "markdown",
   "metadata": {},
   "source": [
    "- indentation\n",
    "- `range(start, stop, [step])`. This is very convenient to use if you want to generate index for your iterations. [Read how to use `range`](https://docs.python.org/3/library/stdtypes.html#range) on your own for the exercise\n",
    "    ```\n",
    "    num_list = [2,4,6,8]\n",
    "    for i in range(len(num_list)):\n",
    "        print('value at index {0} is {1}'.format(i, num_list[i]))\n",
    "    ```\n",
    "- `==` logical condition\n",
    "- loop is broken when `if` condition is met and hit `break`"
   ]
  },
  {
   "cell_type": "markdown",
   "metadata": {},
   "source": [
    "`continue` is more like a shortcut to do nothing and skip the rest of the code within the indented block, and move on to the next iteration. It has a similar placeholder taste to `pass` for `if-elif-else` statement."
   ]
  },
  {
   "cell_type": "code",
   "execution_count": 168,
   "metadata": {},
   "outputs": [
    {
     "name": "stdout",
     "output_type": "stream",
     "text": [
      "1\n",
      "2\n",
      "3\n",
      "4\n",
      "5\n",
      "6\n",
      "7\n",
      "8\n",
      "9\n",
      "9\n"
     ]
    }
   ],
   "source": [
    "for i in range(1,10):\n",
    "    print(i)\n",
    "    if i%2==0 and i%3==0:\n",
    "        continue\n",
    "print(i)"
   ]
  },
  {
   "cell_type": "markdown",
   "metadata": {},
   "source": [
    "### 5.3 A few iterables\n",
    "We have seen `list` used with `for`, and it's said other collections will work too. \n",
    "\n",
    "#### `enumerate()`\n",
    "We have seen `range()` is easier at handling indices, there is actually a easier method to get both item and index at the same time. This function yield an interable sequence of values, each value is a pair of index and the actual tiem."
   ]
  },
  {
   "cell_type": "code",
   "execution_count": 171,
   "metadata": {},
   "outputs": [
    {
     "name": "stdout",
     "output_type": "stream",
     "text": [
      "value at index 0 is 2\n",
      "value at index 1 is 4\n",
      "value at index 2 is 6\n",
      "value at index 3 is 8\n"
     ]
    }
   ],
   "source": [
    "# compare with the code using range above\n",
    "num_list = [2,4,6,8]\n",
    "for i, number in enumerate(num_list):\n",
    "    print('value at index {0} is {1}'.format(i, number))"
   ]
  },
  {
   "cell_type": "markdown",
   "metadata": {},
   "source": [
    "`enumerate` seems more powerful when you want to iterate through existing iterable, while `range` gives you more flexibility to run any number of iterations.\n",
    "\n",
    "`i, number` ~ sequence unpacking, [read more here](https://docs.python.org/3/tutorial/datastructures.html#tuples-and-sequences)"
   ]
  },
  {
   "cell_type": "markdown",
   "metadata": {},
   "source": [
    "#### `dictionary()`\n",
    "You can use `for` statement to iterate through keys of a dictionary"
   ]
  },
  {
   "cell_type": "code",
   "execution_count": 173,
   "metadata": {},
   "outputs": [
    {
     "name": "stdout",
     "output_type": "stream",
     "text": [
      "{'data': 'science', 'science': 0, 0: {'data': 'science', 'science': 0}, (1, 2): [1, 2]}\n"
     ]
    }
   ],
   "source": [
    "print(three_dict)"
   ]
  },
  {
   "cell_type": "code",
   "execution_count": 175,
   "metadata": {},
   "outputs": [
    {
     "name": "stdout",
     "output_type": "stream",
     "text": [
      "data : science\n",
      "science : 0\n",
      "0 : {'data': 'science', 'science': 0}\n",
      "(1, 2) : [1, 2]\n"
     ]
    }
   ],
   "source": [
    "for key in three_dict:\n",
    "    print('{0} : {1}'.format(key, three_dict[key]))"
   ]
  },
  {
   "cell_type": "markdown",
   "metadata": {},
   "source": [
    "Note: dictionary is unordered, so it's not guaranteed you will iterate over the keys in the same order are they are defined. If you care about the order, check out [how to use `sorted()`](https://docs.python.org/3/library/functions.html#sorted)."
   ]
  },
  {
   "cell_type": "markdown",
   "metadata": {},
   "source": [
    "### 5.4 Comprehensions"
   ]
  },
  {
   "cell_type": "markdown",
   "metadata": {},
   "source": [
    "#### List"
   ]
  },
  {
   "cell_type": "markdown",
   "metadata": {},
   "source": [
    "Comprehensions are a special syntax in python, which is similar to `for` loop. Instead of an explicit loop, it's more \"pythonic\":\n",
    "\n",
    "`[expression for item in iterable]`"
   ]
  },
  {
   "cell_type": "code",
   "execution_count": 177,
   "metadata": {},
   "outputs": [
    {
     "name": "stdout",
     "output_type": "stream",
     "text": [
      "[2, 4, 6, 8]\n",
      "[4, 16, 36, 64]\n"
     ]
    }
   ],
   "source": [
    "print(num_list)\n",
    "num_list_2 = [number**2 for number in num_list]\n",
    "print(num_list_2)"
   ]
  },
  {
   "cell_type": "code",
   "execution_count": 179,
   "metadata": {},
   "outputs": [
    {
     "name": "stdout",
     "output_type": "stream",
     "text": [
      "[4, 16, 36, 64]\n"
     ]
    }
   ],
   "source": [
    "num_list_2 = []\n",
    "for number in num_list:\n",
    "    num_list_2.append(number**2)\n",
    "print(num_list_2)"
   ]
  },
  {
   "cell_type": "markdown",
   "metadata": {},
   "source": [
    "You can make it more complex and chain other statements to it."
   ]
  },
  {
   "cell_type": "code",
   "execution_count": 181,
   "metadata": {},
   "outputs": [
    {
     "name": "stdout",
     "output_type": "stream",
     "text": [
      "[8, 64, 36, 64]\n"
     ]
    }
   ],
   "source": [
    "print([number**3 if number < 5 else number**2 for number in num_list])"
   ]
  },
  {
   "cell_type": "code",
   "execution_count": 182,
   "metadata": {},
   "outputs": [
    {
     "name": "stdout",
     "output_type": "stream",
     "text": [
      "[(1, 3), (1, 4), (2, 3), (2, 1), (2, 4), (3, 1), (3, 4)]\n"
     ]
    }
   ],
   "source": [
    "print([(x, y) for x in [1,2,3] for y in [3,1,4] if x != y])"
   ]
  },
  {
   "cell_type": "code",
   "execution_count": 183,
   "metadata": {},
   "outputs": [
    {
     "name": "stdout",
     "output_type": "stream",
     "text": [
      "[(1, 3), (1, 4), (2, 3), (2, 1), (2, 4), (3, 1), (3, 4)]\n"
     ]
    }
   ],
   "source": [
    "xy = []\n",
    "for x in [1,2,3]:\n",
    "    for y in [3,1,4]:\n",
    "        if x != y:\n",
    "            xy.append((x,y))\n",
    "print(xy)"
   ]
  },
  {
   "cell_type": "markdown",
   "metadata": {},
   "source": [
    "It can get pretty complex really fast. Comprehension is usually quite elegant and short to write, but can be hard to read sometimes. For more examples, read [nested list comprehension here](https://docs.python.org/3/tutorial/datastructures.html#nested-list-comprehensions)."
   ]
  },
  {
   "cell_type": "markdown",
   "metadata": {},
   "source": [
    "#### Set and dictionary\n",
    "A comprehension creates a collection. The difference between different comprehension is the object generated in the end. Idea is the same though syntax are different.\n",
    "\n",
    "- Dicionary: `{key:value for item in iterable}`\n",
    "- Set: `{expression for item in iterable}`"
   ]
  },
  {
   "cell_type": "code",
   "execution_count": 184,
   "metadata": {},
   "outputs": [
    {
     "name": "stdout",
     "output_type": "stream",
     "text": [
      "{1, 3, 5}\n"
     ]
    }
   ],
   "source": [
    "num_list = [1,1,2,3,5,8]\n",
    "set_odd = {x for x in num_list if x%2 == 1}\n",
    "print(set_odd)"
   ]
  },
  {
   "cell_type": "code",
   "execution_count": 187,
   "metadata": {},
   "outputs": [
    {
     "name": "stdout",
     "output_type": "stream",
     "text": [
      "{1: 1, 2: 4, 3: 9, 5: 25, 8: 64}\n"
     ]
    }
   ],
   "source": [
    "num_list = [1,1,2,3,5,8]\n",
    "squared_dict = {x:x**2 for x in num_list}\n",
    "print(squared_dict)"
   ]
  },
  {
   "cell_type": "code",
   "execution_count": 191,
   "metadata": {},
   "outputs": [
    {
     "name": "stdout",
     "output_type": "stream",
     "text": [
      "[1, 2, 5]\n",
      "[1, 2, 5]\n"
     ]
    }
   ],
   "source": [
    "print([num_list[i] for i in range(0, len(num_list), 2)])\n",
    "print(num_list[::2])"
   ]
  },
  {
   "cell_type": "markdown",
   "metadata": {},
   "source": [
    "#### Exercise 5.\n",
    "\n",
    "1. Write a Python program to find those numbers which are divisible by 7 and multiple of 5, between 1500 and 2700 (both included)."
   ]
  },
  {
   "cell_type": "code",
   "execution_count": 192,
   "metadata": {},
   "outputs": [],
   "source": [
    "# code up your solution here"
   ]
  },
  {
   "cell_type": "markdown",
   "metadata": {},
   "source": [
    "2. Write a Python program to count the number of even and odd numbers from a series of numbers.\n",
    "\n",
    "Sample: `numbers = (1, 2, 3, 4, 5, 6, 7, 8, 9)`\n",
    "\n",
    "Expected Output :\n",
    "\n",
    "```\n",
    "Number of even numbers : 5\n",
    "Number of odd numbers : 4\n",
    "```"
   ]
  },
  {
   "cell_type": "code",
   "execution_count": null,
   "metadata": {},
   "outputs": [],
   "source": [
    "# code up your solution here"
   ]
  },
  {
   "cell_type": "markdown",
   "metadata": {},
   "source": [
    "3. Write a Python program which iterates the integers from 0 to 50. For multiples of three print \"Fizz\" instead of the number and for the multiples of five print \"Buzz\". For numbers which are multiples of both three and five print \"FizzBuzz\".\n",
    "\n",
    "Expected Output :\n",
    "```\n",
    "fizzbuzz\n",
    "1\n",
    "2\n",
    "fizz\n",
    "4\n",
    "buzz\n",
    "...\n",
    "```"
   ]
  },
  {
   "cell_type": "code",
   "execution_count": null,
   "metadata": {},
   "outputs": [],
   "source": [
    "# code up your solution here"
   ]
  },
  {
   "cell_type": "markdown",
   "metadata": {},
   "source": [
    "4. Given a list iterate it and display numbers which are divisible by 5 and if you find number greater than 150 stop the loop iteration\n",
    "\n",
    "`list1 = [12, 15, 32, 42, 55, 75, 122, 132, 150, 180, 200]`\n",
    "\n",
    "Expected output:\n",
    "```\n",
    "15\n",
    "55\n",
    "75\n",
    "150\n",
    "```"
   ]
  },
  {
   "cell_type": "markdown",
   "metadata": {},
   "source": [
    "5. Pick one of the questions above and use `range()` for a different solution"
   ]
  },
  {
   "cell_type": "code",
   "execution_count": null,
   "metadata": {},
   "outputs": [],
   "source": [
    "# code up your solution here"
   ]
  },
  {
   "cell_type": "markdown",
   "metadata": {},
   "source": [
    "6. Pick one of the question above and use comprehensions for a different solution"
   ]
  },
  {
   "cell_type": "code",
   "execution_count": null,
   "metadata": {},
   "outputs": [],
   "source": [
    "# code up your solution here"
   ]
  },
  {
   "cell_type": "markdown",
   "metadata": {},
   "source": [
    "## 6. Writing functions\n",
    "We have learned a bunch of techniques to write code programs to solve problem, in some of the exercises we did, you'll need manually update the variables and it quickly becomes difficult to manage. Imagine you write a more complex program with 500+ lines of code, and now you need to update two varaibles. It's not only tiring but also prone to error. Now we are introducint function (we have already used a lot actually!) to make our code more repeatable.\n",
    "\n",
    "Functions can:\n",
    "- Reduce complexity. Now you can point to a chunk of code using shorthand. Once you make sure it's behaving as expceted, you are confident it will work anywhere.\n",
    "- Be reused. Super easy for you and others for similar tasks.\n",
    "\n",
    "### 6.1 Define functions with `def`\n",
    "\n",
    "Goal of a function is to solve a problem. It could be super easy task, or a group of small tasks stacked together. Python functions take the input (`arguments`) to run some code and return results or do something as you defined. This definition is similar to how we define functions in math too, there is domain, mapping, and value.\n",
    "\n",
    "Let's start with some simple examples"
   ]
  },
  {
   "cell_type": "code",
   "execution_count": 1,
   "metadata": {},
   "outputs": [
    {
     "name": "stdout",
     "output_type": "stream",
     "text": [
      "Data Science!"
     ]
    }
   ],
   "source": [
    "print('Data Science', end='!')"
   ]
  },
  {
   "cell_type": "markdown",
   "metadata": {},
   "source": [
    "Functions are declared by \n",
    "\n",
    "```\n",
    "def function_name(arguments):\n",
    "    code with arguments\n",
    "    code with arguments\n",
    "    \n",
    "    [optional]\n",
    "    [return output]\n",
    "```"
   ]
  },
  {
   "cell_type": "code",
   "execution_count": 6,
   "metadata": {},
   "outputs": [
    {
     "name": "stdout",
     "output_type": "stream",
     "text": [
      "Heisenberg!A girl!"
     ]
    }
   ],
   "source": [
    "def say_my_name(name, ex=True):\n",
    "    if ex:\n",
    "        end = '!'\n",
    "        print(name, end=end)\n",
    "    else:\n",
    "        print(name)\n",
    "    \n",
    "say_my_name('Heisenberg')\n",
    "say_my_name('A girl')"
   ]
  },
  {
   "cell_type": "markdown",
   "metadata": {},
   "source": [
    "Syntax:\n",
    "- `def` needs matching `:`\n",
    "- indentation\n",
    "- arguments order (default value)\n",
    "- inputs"
   ]
  },
  {
   "cell_type": "markdown",
   "metadata": {},
   "source": [
    "### 6.2 Getting value with `return`\n",
    "We noticed there is no `return` from the function above. What does it mean?"
   ]
  },
  {
   "cell_type": "code",
   "execution_count": 7,
   "metadata": {},
   "outputs": [
    {
     "name": "stdout",
     "output_type": "stream",
     "text": [
      "Heisenberg!Heisenberg!None\n",
      "None\n"
     ]
    }
   ],
   "source": [
    "a = say_my_name('Heisenberg')\n",
    "print(say_my_name('Heisenberg'))\n",
    "print(a)"
   ]
  },
  {
   "cell_type": "markdown",
   "metadata": {},
   "source": [
    "If omitting `return`, a `None` object is returned. If want want to return value(s), there are different ways to do it. There are 3 ways to end a function:\n",
    "1. `return expression` statment, this is the result of this function and can be anything\n",
    "2. an empty `return` statement, no explicit return value, technically returns a `None`\n",
    "3. no `return` statement, end the indented block as it. same as 2."
   ]
  },
  {
   "cell_type": "code",
   "execution_count": 8,
   "metadata": {},
   "outputs": [],
   "source": [
    "def say_my_name(name, ex=True):\n",
    "    if ex:\n",
    "        end = '!'\n",
    "        print(name, end=end)\n",
    "    else:\n",
    "        end = ''\n",
    "        print(name)\n",
    "        \n",
    "    return name+end"
   ]
  },
  {
   "cell_type": "code",
   "execution_count": 10,
   "metadata": {},
   "outputs": [
    {
     "name": "stdout",
     "output_type": "stream",
     "text": [
      "Heisenberg!Heisenberg!Heisenberg!\n",
      "Heisenberg!\n"
     ]
    }
   ],
   "source": [
    "a = say_my_name('Heisenberg')\n",
    "print(say_my_name('Heisenberg'))\n",
    "print(a)"
   ]
  },
  {
   "cell_type": "code",
   "execution_count": 11,
   "metadata": {},
   "outputs": [],
   "source": [
    "def say_my_name(name, ex=True):\n",
    "    if ex:\n",
    "        end = '!'\n",
    "        print(name, end=end)\n",
    "    else:\n",
    "        end = ''\n",
    "        print(name)\n",
    "        \n",
    "    return name, end"
   ]
  },
  {
   "cell_type": "code",
   "execution_count": 14,
   "metadata": {},
   "outputs": [
    {
     "name": "stdout",
     "output_type": "stream",
     "text": [
      "Heisenberg!Heisenberg!('Heisenberg', '!')\n",
      "('Heisenberg', '!')\n"
     ]
    }
   ],
   "source": [
    "a = say_my_name('Heisenberg')\n",
    "print(say_my_name('Heisenberg'))\n",
    "print(a)"
   ]
  },
  {
   "cell_type": "markdown",
   "metadata": {},
   "source": [
    "### 6.3 Arguments\n",
    "position\n",
    "\n",
    "keywords\n",
    "\n",
    "unpack"
   ]
  },
  {
   "cell_type": "code",
   "execution_count": null,
   "metadata": {},
   "outputs": [],
   "source": []
  }
 ],
 "metadata": {
  "kernelspec": {
   "display_name": "Python 3",
   "language": "python",
   "name": "python3"
  },
  "language_info": {
   "codemirror_mode": {
    "name": "ipython",
    "version": 3
   },
   "file_extension": ".py",
   "mimetype": "text/x-python",
   "name": "python",
   "nbconvert_exporter": "python",
   "pygments_lexer": "ipython3",
   "version": "3.8.2"
  }
 },
 "nbformat": 4,
 "nbformat_minor": 2
}
